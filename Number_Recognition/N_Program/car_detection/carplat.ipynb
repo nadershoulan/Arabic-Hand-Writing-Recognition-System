{
 "cells": [
  {
   "cell_type": "code",
   "execution_count": 6,
   "metadata": {},
   "outputs": [
    {
     "name": "stderr",
     "output_type": "stream",
     "text": [
      "Downloading detection model, please wait. This may take several minutes depending upon your network connection.\n"
     ]
    },
    {
     "ename": "ConnectionResetError",
     "evalue": "[WinError 10054] An existing connection was forcibly closed by the remote host",
     "output_type": "error",
     "traceback": [
      "\u001b[1;31m---------------------------------------------------------------------------\u001b[0m",
      "\u001b[1;31mConnectionResetError\u001b[0m                      Traceback (most recent call last)",
      "Cell \u001b[1;32mIn [6], line 24\u001b[0m\n\u001b[0;32m     21\u001b[0m (x, y, w, h) \u001b[38;5;241m=\u001b[39m cv2\u001b[38;5;241m.\u001b[39mboundingRect(plate_cnt)\n\u001b[0;32m     22\u001b[0m plate \u001b[38;5;241m=\u001b[39m gray[y:y \u001b[38;5;241m+\u001b[39m h, x:x \u001b[38;5;241m+\u001b[39m w]\n\u001b[1;32m---> 24\u001b[0m reader \u001b[38;5;241m=\u001b[39m \u001b[43mReader\u001b[49m\u001b[43m(\u001b[49m\u001b[43m[\u001b[49m\u001b[38;5;124;43m'\u001b[39;49m\u001b[38;5;124;43men\u001b[39;49m\u001b[38;5;124;43m'\u001b[39;49m\u001b[43m]\u001b[49m\u001b[43m \u001b[49m\u001b[43m,\u001b[49m\u001b[43m  \u001b[49m\u001b[43mgpu\u001b[49m\u001b[38;5;241;43m=\u001b[39;49m\u001b[38;5;28;43;01mFalse\u001b[39;49;00m\u001b[43m,\u001b[49m\u001b[43m \u001b[49m\u001b[43mverbose\u001b[49m\u001b[38;5;241;43m=\u001b[39;49m\u001b[38;5;28;43;01mFalse\u001b[39;49;00m\u001b[43m)\u001b[49m\n\u001b[0;32m     25\u001b[0m detection \u001b[38;5;241m=\u001b[39m reader\u001b[38;5;241m.\u001b[39mreadtext(plate)\n\u001b[0;32m     26\u001b[0m \u001b[38;5;28mprint\u001b[39m(detection)\n",
      "File \u001b[1;32mc:\\Users\\nadershoulan\\AppData\\Local\\Programs\\Python\\Python39\\lib\\site-packages\\easyocr\\easyocr.py:88\u001b[0m, in \u001b[0;36mReader.__init__\u001b[1;34m(self, lang_list, gpu, model_storage_directory, user_network_directory, detect_network, recog_network, download_enabled, detector, recognizer, verbose, quantize, cudnn_benchmark)\u001b[0m\n\u001b[0;32m     86\u001b[0m \u001b[39mself\u001b[39m\u001b[39m.\u001b[39mcudnn_benchmark\u001b[39m=\u001b[39mcudnn_benchmark\n\u001b[0;32m     87\u001b[0m \u001b[39mif\u001b[39;00m detector:\n\u001b[1;32m---> 88\u001b[0m     detector_path \u001b[39m=\u001b[39m \u001b[39mself\u001b[39;49m\u001b[39m.\u001b[39;49mgetDetectorPath(detect_network)\n\u001b[0;32m     90\u001b[0m \u001b[39m# recognition model\u001b[39;00m\n\u001b[0;32m     91\u001b[0m separator_list \u001b[39m=\u001b[39m {}\n",
      "File \u001b[1;32mc:\\Users\\nadershoulan\\AppData\\Local\\Programs\\Python\\Python39\\lib\\site-packages\\easyocr\\easyocr.py:249\u001b[0m, in \u001b[0;36mReader.getDetectorPath\u001b[1;34m(self, detect_network)\u001b[0m\n\u001b[0;32m    246\u001b[0m     \u001b[39mraise\u001b[39;00m \u001b[39mFileNotFoundError\u001b[39;00m(\u001b[39m\"\u001b[39m\u001b[39mMissing \u001b[39m\u001b[39m%s\u001b[39;00m\u001b[39m and downloads disabled\u001b[39m\u001b[39m\"\u001b[39m \u001b[39m%\u001b[39m detector_path)\n\u001b[0;32m    247\u001b[0m LOGGER\u001b[39m.\u001b[39mwarning(\u001b[39m'\u001b[39m\u001b[39mDownloading detection model, please wait. \u001b[39m\u001b[39m'\u001b[39m\n\u001b[0;32m    248\u001b[0m                \u001b[39m'\u001b[39m\u001b[39mThis may take several minutes depending upon your network connection.\u001b[39m\u001b[39m'\u001b[39m)\n\u001b[1;32m--> 249\u001b[0m download_and_unzip(\u001b[39mself\u001b[39;49m\u001b[39m.\u001b[39;49mdetection_models[\u001b[39mself\u001b[39;49m\u001b[39m.\u001b[39;49mdetect_network][\u001b[39m'\u001b[39;49m\u001b[39murl\u001b[39;49m\u001b[39m'\u001b[39;49m], \u001b[39mself\u001b[39;49m\u001b[39m.\u001b[39;49mdetection_models[\u001b[39mself\u001b[39;49m\u001b[39m.\u001b[39;49mdetect_network][\u001b[39m'\u001b[39;49m\u001b[39mfilename\u001b[39;49m\u001b[39m'\u001b[39;49m], \u001b[39mself\u001b[39;49m\u001b[39m.\u001b[39;49mmodel_storage_directory, \u001b[39mself\u001b[39;49m\u001b[39m.\u001b[39;49mverbose)\n\u001b[0;32m    250\u001b[0m \u001b[39massert\u001b[39;00m calculate_md5(detector_path) \u001b[39m==\u001b[39m \u001b[39mself\u001b[39m\u001b[39m.\u001b[39mdetection_models[\u001b[39mself\u001b[39m\u001b[39m.\u001b[39mdetect_network][\u001b[39m'\u001b[39m\u001b[39mmd5sum\u001b[39m\u001b[39m'\u001b[39m], corrupt_msg\n\u001b[0;32m    251\u001b[0m LOGGER\u001b[39m.\u001b[39minfo(\u001b[39m'\u001b[39m\u001b[39mDownload complete\u001b[39m\u001b[39m'\u001b[39m)\n",
      "File \u001b[1;32mc:\\Users\\nadershoulan\\AppData\\Local\\Programs\\Python\\Python39\\lib\\site-packages\\easyocr\\utils.py:586\u001b[0m, in \u001b[0;36mdownload_and_unzip\u001b[1;34m(url, filename, model_storage_directory, verbose)\u001b[0m\n\u001b[0;32m    584\u001b[0m zip_path \u001b[39m=\u001b[39m os\u001b[39m.\u001b[39mpath\u001b[39m.\u001b[39mjoin(model_storage_directory, \u001b[39m'\u001b[39m\u001b[39mtemp.zip\u001b[39m\u001b[39m'\u001b[39m)\n\u001b[0;32m    585\u001b[0m reporthook \u001b[39m=\u001b[39m printProgressBar(prefix\u001b[39m=\u001b[39m\u001b[39m'\u001b[39m\u001b[39mProgress:\u001b[39m\u001b[39m'\u001b[39m, suffix\u001b[39m=\u001b[39m\u001b[39m'\u001b[39m\u001b[39mComplete\u001b[39m\u001b[39m'\u001b[39m, length\u001b[39m=\u001b[39m\u001b[39m50\u001b[39m) \u001b[39mif\u001b[39;00m verbose \u001b[39melse\u001b[39;00m \u001b[39mNone\u001b[39;00m\n\u001b[1;32m--> 586\u001b[0m urlretrieve(url, zip_path, reporthook\u001b[39m=\u001b[39;49mreporthook)\n\u001b[0;32m    587\u001b[0m \u001b[39mwith\u001b[39;00m ZipFile(zip_path, \u001b[39m'\u001b[39m\u001b[39mr\u001b[39m\u001b[39m'\u001b[39m) \u001b[39mas\u001b[39;00m zipObj:\n\u001b[0;32m    588\u001b[0m     zipObj\u001b[39m.\u001b[39mextract(filename, model_storage_directory)\n",
      "File \u001b[1;32mc:\\Users\\nadershoulan\\AppData\\Local\\Programs\\Python\\Python39\\lib\\urllib\\request.py:268\u001b[0m, in \u001b[0;36murlretrieve\u001b[1;34m(url, filename, reporthook, data)\u001b[0m\n\u001b[0;32m    265\u001b[0m     reporthook(blocknum, bs, size)\n\u001b[0;32m    267\u001b[0m \u001b[39mwhile\u001b[39;00m \u001b[39mTrue\u001b[39;00m:\n\u001b[1;32m--> 268\u001b[0m     block \u001b[39m=\u001b[39m fp\u001b[39m.\u001b[39;49mread(bs)\n\u001b[0;32m    269\u001b[0m     \u001b[39mif\u001b[39;00m \u001b[39mnot\u001b[39;00m block:\n\u001b[0;32m    270\u001b[0m         \u001b[39mbreak\u001b[39;00m\n",
      "File \u001b[1;32mc:\\Users\\nadershoulan\\AppData\\Local\\Programs\\Python\\Python39\\lib\\http\\client.py:458\u001b[0m, in \u001b[0;36mHTTPResponse.read\u001b[1;34m(self, amt)\u001b[0m\n\u001b[0;32m    455\u001b[0m \u001b[39mif\u001b[39;00m amt \u001b[39mis\u001b[39;00m \u001b[39mnot\u001b[39;00m \u001b[39mNone\u001b[39;00m:\n\u001b[0;32m    456\u001b[0m     \u001b[39m# Amount is given, implement using readinto\u001b[39;00m\n\u001b[0;32m    457\u001b[0m     b \u001b[39m=\u001b[39m \u001b[39mbytearray\u001b[39m(amt)\n\u001b[1;32m--> 458\u001b[0m     n \u001b[39m=\u001b[39m \u001b[39mself\u001b[39;49m\u001b[39m.\u001b[39;49mreadinto(b)\n\u001b[0;32m    459\u001b[0m     \u001b[39mreturn\u001b[39;00m \u001b[39mmemoryview\u001b[39m(b)[:n]\u001b[39m.\u001b[39mtobytes()\n\u001b[0;32m    460\u001b[0m \u001b[39melse\u001b[39;00m:\n\u001b[0;32m    461\u001b[0m     \u001b[39m# Amount is not given (unbounded read) so we must check self.length\u001b[39;00m\n\u001b[0;32m    462\u001b[0m     \u001b[39m# and self.chunked\u001b[39;00m\n",
      "File \u001b[1;32mc:\\Users\\nadershoulan\\AppData\\Local\\Programs\\Python\\Python39\\lib\\http\\client.py:502\u001b[0m, in \u001b[0;36mHTTPResponse.readinto\u001b[1;34m(self, b)\u001b[0m\n\u001b[0;32m    497\u001b[0m         b \u001b[39m=\u001b[39m \u001b[39mmemoryview\u001b[39m(b)[\u001b[39m0\u001b[39m:\u001b[39mself\u001b[39m\u001b[39m.\u001b[39mlength]\n\u001b[0;32m    499\u001b[0m \u001b[39m# we do not use _safe_read() here because this may be a .will_close\u001b[39;00m\n\u001b[0;32m    500\u001b[0m \u001b[39m# connection, and the user is reading more bytes than will be provided\u001b[39;00m\n\u001b[0;32m    501\u001b[0m \u001b[39m# (for example, reading in 1k chunks)\u001b[39;00m\n\u001b[1;32m--> 502\u001b[0m n \u001b[39m=\u001b[39m \u001b[39mself\u001b[39;49m\u001b[39m.\u001b[39;49mfp\u001b[39m.\u001b[39;49mreadinto(b)\n\u001b[0;32m    503\u001b[0m \u001b[39mif\u001b[39;00m \u001b[39mnot\u001b[39;00m n \u001b[39mand\u001b[39;00m b:\n\u001b[0;32m    504\u001b[0m     \u001b[39m# Ideally, we would raise IncompleteRead if the content-length\u001b[39;00m\n\u001b[0;32m    505\u001b[0m     \u001b[39m# wasn't satisfied, but it might break compatibility.\u001b[39;00m\n\u001b[0;32m    506\u001b[0m     \u001b[39mself\u001b[39m\u001b[39m.\u001b[39m_close_conn()\n",
      "File \u001b[1;32mc:\\Users\\nadershoulan\\AppData\\Local\\Programs\\Python\\Python39\\lib\\socket.py:704\u001b[0m, in \u001b[0;36mSocketIO.readinto\u001b[1;34m(self, b)\u001b[0m\n\u001b[0;32m    702\u001b[0m \u001b[39mwhile\u001b[39;00m \u001b[39mTrue\u001b[39;00m:\n\u001b[0;32m    703\u001b[0m     \u001b[39mtry\u001b[39;00m:\n\u001b[1;32m--> 704\u001b[0m         \u001b[39mreturn\u001b[39;00m \u001b[39mself\u001b[39;49m\u001b[39m.\u001b[39;49m_sock\u001b[39m.\u001b[39;49mrecv_into(b)\n\u001b[0;32m    705\u001b[0m     \u001b[39mexcept\u001b[39;00m timeout:\n\u001b[0;32m    706\u001b[0m         \u001b[39mself\u001b[39m\u001b[39m.\u001b[39m_timeout_occurred \u001b[39m=\u001b[39m \u001b[39mTrue\u001b[39;00m\n",
      "File \u001b[1;32mc:\\Users\\nadershoulan\\AppData\\Local\\Programs\\Python\\Python39\\lib\\ssl.py:1241\u001b[0m, in \u001b[0;36mSSLSocket.recv_into\u001b[1;34m(self, buffer, nbytes, flags)\u001b[0m\n\u001b[0;32m   1237\u001b[0m     \u001b[39mif\u001b[39;00m flags \u001b[39m!=\u001b[39m \u001b[39m0\u001b[39m:\n\u001b[0;32m   1238\u001b[0m         \u001b[39mraise\u001b[39;00m \u001b[39mValueError\u001b[39;00m(\n\u001b[0;32m   1239\u001b[0m           \u001b[39m\"\u001b[39m\u001b[39mnon-zero flags not allowed in calls to recv_into() on \u001b[39m\u001b[39m%s\u001b[39;00m\u001b[39m\"\u001b[39m \u001b[39m%\u001b[39m\n\u001b[0;32m   1240\u001b[0m           \u001b[39mself\u001b[39m\u001b[39m.\u001b[39m\u001b[39m__class__\u001b[39m)\n\u001b[1;32m-> 1241\u001b[0m     \u001b[39mreturn\u001b[39;00m \u001b[39mself\u001b[39;49m\u001b[39m.\u001b[39;49mread(nbytes, buffer)\n\u001b[0;32m   1242\u001b[0m \u001b[39melse\u001b[39;00m:\n\u001b[0;32m   1243\u001b[0m     \u001b[39mreturn\u001b[39;00m \u001b[39msuper\u001b[39m()\u001b[39m.\u001b[39mrecv_into(buffer, nbytes, flags)\n",
      "File \u001b[1;32mc:\\Users\\nadershoulan\\AppData\\Local\\Programs\\Python\\Python39\\lib\\ssl.py:1099\u001b[0m, in \u001b[0;36mSSLSocket.read\u001b[1;34m(self, len, buffer)\u001b[0m\n\u001b[0;32m   1097\u001b[0m \u001b[39mtry\u001b[39;00m:\n\u001b[0;32m   1098\u001b[0m     \u001b[39mif\u001b[39;00m buffer \u001b[39mis\u001b[39;00m \u001b[39mnot\u001b[39;00m \u001b[39mNone\u001b[39;00m:\n\u001b[1;32m-> 1099\u001b[0m         \u001b[39mreturn\u001b[39;00m \u001b[39mself\u001b[39;49m\u001b[39m.\u001b[39;49m_sslobj\u001b[39m.\u001b[39;49mread(\u001b[39mlen\u001b[39;49m, buffer)\n\u001b[0;32m   1100\u001b[0m     \u001b[39melse\u001b[39;00m:\n\u001b[0;32m   1101\u001b[0m         \u001b[39mreturn\u001b[39;00m \u001b[39mself\u001b[39m\u001b[39m.\u001b[39m_sslobj\u001b[39m.\u001b[39mread(\u001b[39mlen\u001b[39m)\n",
      "\u001b[1;31mConnectionResetError\u001b[0m: [WinError 10054] An existing connection was forcibly closed by the remote host"
     ]
    }
   ],
   "source": [
    "#Number Plate Recognition with OpenCV and EasyOCR\n",
    "\n",
    "# read the readme file\n",
    "\n",
    "from easyocr import Reader\n",
    "import cv2\n",
    "car = cv2.imread('cars\\car16.jpg')\n",
    "car = cv2.resize(car, (800, 600))\n",
    "gray = cv2.cvtColor(car, cv2.COLOR_BGR2GRAY)\n",
    "blur = cv2.GaussianBlur(gray, (5,5), 0)\n",
    "edged = cv2.Canny(blur, 10, 200)\n",
    "cont, _ = cv2.findContours(edged, cv2.RETR_TREE, cv2.CHAIN_APPROX_SIMPLE)\n",
    "cont = sorted(cont, key = cv2.contourArea, reverse = True)[:5]\n",
    "\n",
    "for c in cont:\n",
    "    arc = cv2.arcLength(c, True)\n",
    "    approx = cv2.approxPolyDP(c, 0.02 * arc, True)\n",
    "    if len(approx) == 4:\n",
    "        plate_cnt = approx\n",
    "        break\n",
    "(x, y, w, h) = cv2.boundingRect(plate_cnt)\n",
    "plate = gray[y:y + h, x:x + w]\n",
    "\n",
    "reader = Reader(['en'] ,  gpu=False, verbose=False)\n",
    "detection = reader.readtext(plate)\n",
    "print(detection)\n",
    "\n",
    "if len(detection) == 0:\n",
    "    text = \"Impossible to read the text from the license plate\"\n",
    "    cv2.putText(car, text, (20, 40), cv2.FONT_HERSHEY_SIMPLEX, 0.75, (0, 0, 255), 3)\n",
    "    cv2.imshow('Image', car)\n",
    "    cv2.waitKey(0)\n",
    "else:\n",
    "    cv2.drawContours(car, [plate_cnt], -1, (0, 255, 0), 3)\n",
    "    text = f\"{detection[0][1]} {detection[0][2] * 100:.2f}%\"\n",
    "    cv2.putText(car, text, (x, y - 20), cv2.FONT_HERSHEY_SIMPLEX, 0.75, (0, 255, 0), 2)\n",
    "    print(text)\n",
    "    cv2.imshow('license plate', plate)\n",
    "    cv2.imshow('Image', car)\n",
    "    cv2.waitKey(0)\n",
    "\n"
   ]
  }
 ],
 "metadata": {
  "kernelspec": {
   "display_name": "Python 3.9.0 64-bit",
   "language": "python",
   "name": "python3"
  },
  "language_info": {
   "codemirror_mode": {
    "name": "ipython",
    "version": 3
   },
   "file_extension": ".py",
   "mimetype": "text/x-python",
   "name": "python",
   "nbconvert_exporter": "python",
   "pygments_lexer": "ipython3",
   "version": "3.9.0"
  },
  "orig_nbformat": 4,
  "vscode": {
   "interpreter": {
    "hash": "f1e2fdbd1122d7fa17348bb7e97347866ed33879d335f36f6325a903cea0ba7c"
   }
  }
 },
 "nbformat": 4,
 "nbformat_minor": 2
}
